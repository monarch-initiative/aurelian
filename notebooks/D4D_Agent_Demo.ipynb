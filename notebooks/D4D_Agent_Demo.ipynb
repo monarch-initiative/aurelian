{
 "cells": [
  {
   "cell_type": "markdown",
   "metadata": {},
   "source": [
    "# Datasheets for Datasets (D4D) Agent Demo\n",
    "\n",
    "This notebook uses Datasheets for Datasets (D4D) agent in Aurelian to extract structured metadata from dataset documentation. The agent can analyze one or more web pages / PDF documents describing datasets."
   ]
  },
  {
   "cell_type": "markdown",
   "metadata": {},
   "source": [
    "## Run D4D Agent"
   ]
  },
  {
   "cell_type": "code",
   "execution_count": 12,
   "outputs": [
    {
     "name": "stdout",
     "output_type": "stream",
     "text": [
      "\u001B[1mLogfire\u001B[0m project URL: \u001B]8;id=155746;https://logfire-us.pydantic.dev/justaddcoffee/notebooks\u001B\\\u001B[4;36mhttps://logfire-us.pydantic.dev/justaddcoffee/notebooks\u001B[0m\u001B]8;;\u001B\\\r\n"
     ]
    }
   ],
   "source": [
    "! OPENAI_API_KEY=`cat ~/openai.key` poetry run aurelian datasheets \"https://docs.aireadi.org/docs/2/about https://doi.org/10.5281/zenodo.10642459  https://fairhub.io/datasets/2 https://fairhub.io/datasets/2\" > d4d_agent_output.yaml"
   ],
   "metadata": {
    "collapsed": false,
    "ExecuteTime": {
     "end_time": "2025-06-06T14:36:45.793744Z",
     "start_time": "2025-06-06T14:36:24.935676Z"
    }
   }
  },
  {
   "cell_type": "code",
   "execution_count": 13,
   "outputs": [
    {
     "name": "stdout",
     "output_type": "stream",
     "text": [
      "```yaml\r\n",
      "DatasetCollection:\r\n",
      "  id: https://w3id.org/bridge2ai/data-sheets-schema\r\n",
      "  name: AI-READI\r\n",
      "  title: Flagship Dataset of Type 2 Diabetes from the AI-READI Project\r\n",
      "  description: >\r\n",
      "    The AI-READI dataset consists of data collected from individuals with and without Type 2 Diabetes Mellitus (T2DM), harmonized across 3 data collection sites. The dataset is designed for AI/ML studies to better understand salutogenesis in T2DM. It includes survey data, physical measurements, clinical data, imaging data, wearable device data, and more.\r\n",
      "  license: >\r\n",
      "    This work is licensed under a custom license tailored to enable the reuse of the AI-READI dataset (and other clinical datasets) for commercial or research purposes with strong requirements around data usage, security, and secondary sharing.\r\n",
      "  see_also:\r\n",
      "    - https://docs.aireadi.org\r\n",
      "  keywords:\r\n",
      "    - Diabetes mellitus\r\n",
      "    - Machine Learning\r\n",
      "    - Artificial Intelligence\r\n",
      "    - Electrocardiography\r\n",
      "    - Continuous Glucose Monitoring\r\n",
      "    - Retinal imaging\r\n",
      "    - Eye exam\r\n",
      "  version: 2.0.0\r\n",
      "  issued: Nov 8, 2024\r\n",
      "  resources:\r\n",
      "    - id: https://fairhub.io/datasets/2\r\n",
      "      name: AI-READI v2.0.0\r\n",
      "      description: >\r\n",
      "        This dataset contains data from 1067 participants collected between July 19, 2023 and July 31, 2024. It includes multiple modalities and contains no protected health information.\r\n",
      "      bytes: 2010000000\r\n",
      "      allocation_tags: \r\n",
      "        - privacy\r\n",
      "        - clinical\r\n",
      "      bytes: \r\n",
      "      citation:\r\n",
      "        description: >\r\n",
      "          When using this dataset, please follow the citation instructions provided at https://docs.aireadi.org/docs/2/citation.\r\n",
      "      download_url: >\r\n",
      "        https://doi.org/10.5281/zenodo.10642459\r\n",
      "      license_and_use_terms: \r\n",
      "        description: >\r\n",
      "          The data is protected under a custom license tailored to enable its reuse with strong requirements around security and sharing.\r\n",
      "    - id: https://doi.org/10.5281/zenodo.10642459\r\n",
      "      name: AI-READI Custom License\r\n",
      "      description: >\r\n",
      "        This custom license enables dataset reuse for commercial or research purposes with requirements on data usage, security, and sharing.\r\n",
      "      citation:\r\n",
      "        description: >\r\n",
      "          For citation guidance, refer to the AI-READI documentation for version 2.0.0 at https://docs.aireadi.org.\r\n",
      "      download_url: https://doi.org/10.5281/zenodo.10642459\r\n",
      "      license_and_use_terms:\r\n",
      "        description: >\r\n",
      "          Refer to the License file included in the dataset and available online for more detailed information.\r\n",
      "\r\n",
      "```\r\n",
      "\r\n",
      "```yaml\r\n",
      "id: \"https://w3id.org/bridge2ai/data-sheets-schema/aireadi-v2-0-0\"\r\n",
      "name: AI-READI Dataset v2.0.0\r\n",
      "title: Flagship Dataset of Type 2 Diabetes from the AI-READI Project\r\n",
      "description: >\r\n",
      "  The AI-READI is a dataset consisting of data collected from individuals with and without Type 2 Diabetes Mellitus (T2DM) and harmonized across 3 data collection sites. The dataset is designed with future AI/Machine Learning studies in mind, including data acquisition protocols across multiple domains aimed at AI/ML analyses.\r\n",
      "license: >\r\n",
      "  Custom license specifically tailored to enable the reuse for commercial or research purposes with strong requirements around data usage, security, and secondary sharing.\r\n",
      "see_also:\r\n",
      "  - https://docs.aireadi.org\r\n",
      "  - https://fairhub.io/datasets/2\r\n",
      "  - https://doi.org/10.5281/zenodo.10642459\r\n",
      "  - https://reporter.nih.gov/search/1ADgncihCk6fdMRJdCnBjg/project-details/10471118\r\n",
      "\r\n",
      "DatasetCollection:\r\n",
      "  resources:\r\n",
      "    - id: 1\r\n",
      "      title: AI-READI Dataset v2.0.0\r\n",
      "      description: >\r\n",
      "        This dataset contains data from 1067 participants collected between July 19, 2023, and July 31, 2024. The dataset size is 2.01 TB and contains 165,051 files. It includes multiple modalities such as survey data, clinical measurements, imaging data, and more.\r\n",
      "      bytes: 2000000000000\r\n",
      "      download_url: >\r\n",
      "        https://doi.org/10.60775/fairhub.2\r\n",
      "      license_and_use_terms:\r\n",
      "        description: >\r\n",
      "          The dataset is licensed under terms that restrict usage to T2DM-related research only, with specific terms for AI and ML applications.\r\n",
      "\r\n",
      "creator:\r\n",
      "  principal_investigator:\r\n",
      "    name: AI-READI Consortium\r\n",
      "  affiliation:\r\n",
      "    - name: NIH Bridge2AI Common Fund\r\n",
      "\r\n",
      "funders:\r\n",
      "  grantor:\r\n",
      "    name: NIH Bridge2AI Common Fund\r\n",
      "    ror_id: ROR:02mp31p96\r\n",
      "    wikidata_id: WIKIDATA:Q282186\r\n",
      "  grant:\r\n",
      "    name: NIH grant\r\n",
      "    grant_number: 1OT2OD032644\r\n",
      "\r\n",
      "Collection:\r\n",
      "  acquisition_methods:\r\n",
      "    - description: >\r\n",
      "        Data were collected through a combination of survey data, clinical measurements, imaging, and environmental parameters.\r\n",
      "  collection_mechanisms:\r\n",
      "    - description: >\r\n",
      "        Design of data acquisition protocol across multiple domains to enable AI/ML analyses.\r\n",
      "  collection_timeframes:\r\n",
      "    - description: >\r\n",
      "        Data collected from 4,000 anticipated participants and longitudinal data from 10% of the cohort, balanced for diabetes disease stage.\r\n",
      "\r\n",
      "Preprocessing-Cleaning-Labeling:\r\n",
      "  preprocessing_strategies:\r\n",
      "    - description: >\r\n",
      "        Dataset designed to enable pseudo-time manifold analysis. Data are optimized for AI/ML research applications.\r\n",
      "\r\n",
      "Uses:\r\n",
      "  existing_uses:\r\n",
      "    - description: >\r\n",
      "        Used for exploring type 2 diabetes to understand pathways from disease to health through AI/ML research.\r\n",
      "\r\n",
      "Distribution:\r\n",
      "  distribution_formats:\r\n",
      "    - description: \"Data distribution includes multiple directories per datatype, modality, and device.\"\r\n",
      "\r\n",
      "Maintenance:\r\n",
      "  updates:\r\n",
      "    - description: >\r\n",
      "        Changes and updates are documented in the CHANGELOG. Updates communicated through provided documentation and dataset portals.\r\n",
      "```\r\n",
      "\r\n"
     ]
    }
   ],
   "source": [
    "!cat d4d_agent_output.yaml"
   ],
   "metadata": {
    "collapsed": false,
    "ExecuteTime": {
     "end_time": "2025-06-06T14:37:59.691018Z",
     "start_time": "2025-06-06T14:37:59.569493Z"
    }
   }
  }
 ],
 "metadata": {
  "kernelspec": {
   "display_name": "Python 3",
   "language": "python",
   "name": "python3"
  },
  "language_info": {
   "codemirror_mode": {
    "name": "ipython",
    "version": 3
   },
   "file_extension": ".py",
   "mimetype": "text/x-python",
   "name": "python",
   "nbconvert_exporter": "python",
   "pygments_lexer": "ipython3",
   "version": "3.11.0"
  }
 },
 "nbformat": 4,
 "nbformat_minor": 4
}
