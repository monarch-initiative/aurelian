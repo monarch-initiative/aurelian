{
 "cells": [
  {
   "metadata": {},
   "cell_type": "markdown",
   "source": [
    "# GO CAM Figures\n",
    "\n",
    "The results of this can be seen here: [GO-CAM Reviews](https://cmungall.github.io/go-cam-reviews/)\n",
    "\n",
    "* [Thumbnails](https://cmungall.github.io/go-cam-reviews/thumbnails/)\n",
    "\n",
    "Example:\n",
    "\n",
    "<img alt=\"img\" src=\"https://cmungall.github.io/go-cam-reviews/figures/FIG-646ff70100005137-IL33_signaling_pathway__Human_.svg\" />"
   ],
   "id": "2cf615b1d37e4da7"
  },
  {
   "metadata": {
    "ExecuteTime": {
     "end_time": "2025-03-22T20:50:28.609882Z",
     "start_time": "2025-03-22T20:50:28.081640Z"
    }
   },
   "cell_type": "code",
   "outputs": [
    {
     "name": "stderr",
     "output_type": "stream",
     "text": [
      "/Users/cjm/repos/aurelian/.venv/lib/python3.11/site-packages/pydantic/_internal/_config.py:345: UserWarning: Valid config keys have changed in V2:\n",
      "* 'schema_extra' has been renamed to 'json_schema_extra'\n",
      "  warnings.warn(message, UserWarning)\n"
     ]
    }
   ],
   "execution_count": 1,
   "source": [
    "from pydantic_ai.settings import ModelSettings\n",
    "\n",
    "from aurelian.agents.draw.draw_config import DrawDependencies\n",
    "from aurelian.agents.gocam.gocam_config import GOCAMDependencies\n",
    "from aurelian.agents.draw.draw_agent import draw_agent\n",
    "\n",
    "deps = DrawDependencies() \n",
    "gocam_deps = GOCAMDependencies()"
   ],
   "id": "initial_id"
  },
  {
   "metadata": {},
   "cell_type": "code",
   "outputs": [],
   "execution_count": null,
   "source": "",
   "id": "ca227fc58ff36ff4"
  },
  {
   "cell_type": "code",
   "execution_count": 2,
   "id": "c7007290328e4b4f",
   "metadata": {
    "ExecuteTime": {
     "end_time": "2025-03-21T14:20:34.757738Z",
     "start_time": "2025-03-21T14:20:34.755267Z"
    }
   },
   "outputs": [],
   "source": [
    "import os\n",
    "cborg_api_key = os.environ.get(\"CBORG_API_KEY\")"
   ]
  },
  {
   "cell_type": "code",
   "execution_count": null,
   "id": "a3b82eedba31c59a",
   "metadata": {
    "ExecuteTime": {
     "end_time": "2025-03-21T14:20:34.802277Z",
     "start_time": "2025-03-21T14:20:34.800557Z"
    }
   },
   "outputs": [],
   "source": []
  },
  {
   "cell_type": "code",
   "execution_count": null,
   "id": "e6b76c1a7f48f8c9",
   "metadata": {
    "ExecuteTime": {
     "end_time": "2025-03-21T14:20:34.808614Z",
     "start_time": "2025-03-21T14:20:34.807371Z"
    }
   },
   "outputs": [],
   "source": []
  },
  {
   "cell_type": "code",
   "execution_count": 3,
   "id": "b2fd54e5ba6a6382",
   "metadata": {
    "ExecuteTime": {
     "end_time": "2025-03-21T14:20:34.816003Z",
     "start_time": "2025-03-21T14:20:34.813645Z"
    }
   },
   "outputs": [],
   "source": [
    "from pydantic_ai.providers.openai import OpenAIProvider\n",
    "from pydantic_ai.models.openai import OpenAIModel\n",
    "\n",
    "\n",
    "# not to be confused with GO-CAM Model\n",
    "ai_model = OpenAIModel(\n",
    "    \"anthropic/claude-sonnet\",\n",
    "    #\"openai/gpt-4o\",\n",
    "    provider=OpenAIProvider(\n",
    "        base_url=\"https://api.cborg.lbl.gov\",\n",
    "        api_key=cborg_api_key),\n",
    ")\n",
    "\n",
    "settings = ModelSettings(\n",
    "    max_tokens=32000,\n",
    ")\n"
   ]
  },
  {
   "cell_type": "code",
   "execution_count": 4,
   "id": "f2bee80ce95c363",
   "metadata": {
    "ExecuteTime": {
     "end_time": "2025-03-21T14:20:34.843791Z",
     "start_time": "2025-03-21T14:20:34.821459Z"
    }
   },
   "outputs": [
    {
     "name": "stdout",
     "output_type": "stream",
     "text": [
      "['gocams']\n"
     ]
    }
   ],
   "source": [
    "collection = gocam_deps.collection"
   ]
  },
  {
   "cell_type": "code",
   "execution_count": 5,
   "id": "811259f56676e0b5",
   "metadata": {
    "ExecuteTime": {
     "end_time": "2025-03-21T14:20:35.037568Z",
     "start_time": "2025-03-21T14:20:34.849179Z"
    }
   },
   "outputs": [],
   "source": [
    "qr = collection.find({}, limit=-1) "
   ]
  },
  {
   "cell_type": "code",
   "execution_count": 6,
   "id": "6bd0ddbb38168602",
   "metadata": {
    "ExecuteTime": {
     "end_time": "2025-03-21T14:20:35.117499Z",
     "start_time": "2025-03-21T14:20:35.114138Z"
    }
   },
   "outputs": [
    {
     "data": {
      "text/plain": [
       "944"
      ]
     },
     "execution_count": 6,
     "metadata": {},
     "output_type": "execute_result"
    }
   ],
   "source": [
    "len(qr.rows)"
   ]
  },
  {
   "cell_type": "code",
   "execution_count": 7,
   "id": "ffac734acec088d7",
   "metadata": {
    "ExecuteTime": {
     "end_time": "2025-03-21T14:20:35.474859Z",
     "start_time": "2025-03-21T14:20:35.190196Z"
    }
   },
   "outputs": [
    {
     "data": {
      "text/plain": [
       "740"
      ]
     },
     "execution_count": 7,
     "metadata": {},
     "output_type": "execute_result"
    }
   ],
   "source": [
    "from gocam.datamodel import Model\n",
    "\n",
    "\n",
    "def is_causal(m: dict):\n",
    "    model = Model(**m)\n",
    "    causal_associations = []\n",
    "    for a in model.activities or []:\n",
    "        causal_associations.extend(a.causal_associations or [])\n",
    "    return len(causal_associations) > 2\n",
    "\n",
    "models = [m for m in qr.rows if is_causal(m)]\n",
    "len(models)"
   ]
  },
  {
   "cell_type": "code",
   "execution_count": 8,
   "id": "7f1ecee4a2c3184f",
   "metadata": {
    "ExecuteTime": {
     "end_time": "2025-03-21T14:20:35.677753Z",
     "start_time": "2025-03-21T14:20:35.546048Z"
    }
   },
   "outputs": [],
   "source": [
    "!mkdir -p go-cam-figures"
   ]
  },
  {
   "cell_type": "code",
   "execution_count": 9,
   "id": "c382d50d19786add",
   "metadata": {
    "ExecuteTime": {
     "end_time": "2025-03-21T14:20:35.765021Z",
     "start_time": "2025-03-21T14:20:35.760239Z"
    }
   },
   "outputs": [],
   "source": [
    "import nest_asyncio\n",
    "nest_asyncio.apply()\n"
   ]
  },
  {
   "cell_type": "code",
   "execution_count": 12,
   "id": "c02ec413-8b68-46cc-b501-d9e436f3fc03",
   "metadata": {},
   "outputs": [],
   "source": [
    "from aurelian.agents.draw.draw_agent import DrawingFeedback"
   ]
  },
  {
   "cell_type": "code",
   "execution_count": 10,
   "id": "f3ff35af10975bb2",
   "metadata": {
    "ExecuteTime": {
     "end_time": "2025-03-21T14:20:51.473172Z",
     "start_time": "2025-03-21T14:20:35.837818Z"
    },
    "scrolled": true
   },
   "outputs": [
    {
     "name": "stdout",
     "output_type": "stream",
     "text": [
      "## gomodel:56170d5200000012 kctd10 in heart development PMID:24430697 \n"
     ]
    },
    {
     "ename": "KeyboardInterrupt",
     "evalue": "",
     "output_type": "error",
     "traceback": [
      "\u001B[31m---------------------------------------------------------------------------\u001B[39m",
      "\u001B[31mKeyboardInterrupt\u001B[39m                         Traceback (most recent call last)",
      "\u001B[36mCell\u001B[39m\u001B[36m \u001B[39m\u001B[32mIn[10]\u001B[39m\u001B[32m, line 34\u001B[39m\n\u001B[32m     31\u001B[39m \u001B[38;5;66;03m#print(f\"COMMAND: {command}\")\u001B[39;00m\n\u001B[32m     33\u001B[39m \u001B[38;5;28;01mtry\u001B[39;00m:\n\u001B[32m---> \u001B[39m\u001B[32m34\u001B[39m     result = \u001B[43mdraw_agent\u001B[49m\u001B[43m.\u001B[49m\u001B[43mrun_sync\u001B[49m\u001B[43m(\u001B[49m\u001B[43mcommand\u001B[49m\u001B[43m,\u001B[49m\u001B[43m \u001B[49m\u001B[43mdeps\u001B[49m\u001B[43m=\u001B[49m\u001B[43mdeps\u001B[49m\u001B[43m,\u001B[49m\u001B[43m \u001B[49m\u001B[43mmodel\u001B[49m\u001B[43m=\u001B[49m\u001B[43mai_model\u001B[49m\u001B[43m,\u001B[49m\u001B[43m \u001B[49m\u001B[43mmodel_settings\u001B[49m\u001B[43m=\u001B[49m\u001B[43msettings\u001B[49m\u001B[43m)\u001B[49m\n\u001B[32m     35\u001B[39m \u001B[38;5;28;01mexcept\u001B[39;00m \u001B[38;5;167;01mException\u001B[39;00m \u001B[38;5;28;01mas\u001B[39;00m e:\n\u001B[32m     36\u001B[39m     \u001B[38;5;28mprint\u001B[39m(\u001B[33mf\u001B[39m\u001B[33m\"\u001B[39m\u001B[33mError: \u001B[39m\u001B[38;5;132;01m{\u001B[39;00me\u001B[38;5;132;01m}\u001B[39;00m\u001B[33m\"\u001B[39m)\n",
      "\u001B[36mFile \u001B[39m\u001B[32m~/repos/aurelian/.venv/lib/python3.11/site-packages/pydantic_ai/agent.py:558\u001B[39m, in \u001B[36mAgent.run_sync\u001B[39m\u001B[34m(self, user_prompt, result_type, message_history, model, deps, model_settings, usage_limits, usage, infer_name)\u001B[39m\n\u001B[32m    556\u001B[39m \u001B[38;5;28;01mif\u001B[39;00m infer_name \u001B[38;5;129;01mand\u001B[39;00m \u001B[38;5;28mself\u001B[39m.name \u001B[38;5;129;01mis\u001B[39;00m \u001B[38;5;28;01mNone\u001B[39;00m:\n\u001B[32m    557\u001B[39m     \u001B[38;5;28mself\u001B[39m._infer_name(inspect.currentframe())\n\u001B[32m--> \u001B[39m\u001B[32m558\u001B[39m \u001B[38;5;28;01mreturn\u001B[39;00m \u001B[43mget_event_loop\u001B[49m\u001B[43m(\u001B[49m\u001B[43m)\u001B[49m\u001B[43m.\u001B[49m\u001B[43mrun_until_complete\u001B[49m\u001B[43m(\u001B[49m\n\u001B[32m    559\u001B[39m \u001B[43m    \u001B[49m\u001B[38;5;28;43mself\u001B[39;49m\u001B[43m.\u001B[49m\u001B[43mrun\u001B[49m\u001B[43m(\u001B[49m\n\u001B[32m    560\u001B[39m \u001B[43m        \u001B[49m\u001B[43muser_prompt\u001B[49m\u001B[43m,\u001B[49m\n\u001B[32m    561\u001B[39m \u001B[43m        \u001B[49m\u001B[43mresult_type\u001B[49m\u001B[43m=\u001B[49m\u001B[43mresult_type\u001B[49m\u001B[43m,\u001B[49m\n\u001B[32m    562\u001B[39m \u001B[43m        \u001B[49m\u001B[43mmessage_history\u001B[49m\u001B[43m=\u001B[49m\u001B[43mmessage_history\u001B[49m\u001B[43m,\u001B[49m\n\u001B[32m    563\u001B[39m \u001B[43m        \u001B[49m\u001B[43mmodel\u001B[49m\u001B[43m=\u001B[49m\u001B[43mmodel\u001B[49m\u001B[43m,\u001B[49m\n\u001B[32m    564\u001B[39m \u001B[43m        \u001B[49m\u001B[43mdeps\u001B[49m\u001B[43m=\u001B[49m\u001B[43mdeps\u001B[49m\u001B[43m,\u001B[49m\n\u001B[32m    565\u001B[39m \u001B[43m        \u001B[49m\u001B[43mmodel_settings\u001B[49m\u001B[43m=\u001B[49m\u001B[43mmodel_settings\u001B[49m\u001B[43m,\u001B[49m\n\u001B[32m    566\u001B[39m \u001B[43m        \u001B[49m\u001B[43musage_limits\u001B[49m\u001B[43m=\u001B[49m\u001B[43musage_limits\u001B[49m\u001B[43m,\u001B[49m\n\u001B[32m    567\u001B[39m \u001B[43m        \u001B[49m\u001B[43musage\u001B[49m\u001B[43m=\u001B[49m\u001B[43musage\u001B[49m\u001B[43m,\u001B[49m\n\u001B[32m    568\u001B[39m \u001B[43m        \u001B[49m\u001B[43minfer_name\u001B[49m\u001B[43m=\u001B[49m\u001B[38;5;28;43;01mFalse\u001B[39;49;00m\u001B[43m,\u001B[49m\n\u001B[32m    569\u001B[39m \u001B[43m    \u001B[49m\u001B[43m)\u001B[49m\n\u001B[32m    570\u001B[39m \u001B[43m\u001B[49m\u001B[43m)\u001B[49m\n",
      "\u001B[36mFile \u001B[39m\u001B[32m~/repos/aurelian/.venv/lib/python3.11/site-packages/nest_asyncio.py:92\u001B[39m, in \u001B[36m_patch_loop.<locals>.run_until_complete\u001B[39m\u001B[34m(self, future)\u001B[39m\n\u001B[32m     90\u001B[39m     f._log_destroy_pending = \u001B[38;5;28;01mFalse\u001B[39;00m\n\u001B[32m     91\u001B[39m \u001B[38;5;28;01mwhile\u001B[39;00m \u001B[38;5;129;01mnot\u001B[39;00m f.done():\n\u001B[32m---> \u001B[39m\u001B[32m92\u001B[39m     \u001B[38;5;28;43mself\u001B[39;49m\u001B[43m.\u001B[49m\u001B[43m_run_once\u001B[49m\u001B[43m(\u001B[49m\u001B[43m)\u001B[49m\n\u001B[32m     93\u001B[39m     \u001B[38;5;28;01mif\u001B[39;00m \u001B[38;5;28mself\u001B[39m._stopping:\n\u001B[32m     94\u001B[39m         \u001B[38;5;28;01mbreak\u001B[39;00m\n",
      "\u001B[36mFile \u001B[39m\u001B[32m~/repos/aurelian/.venv/lib/python3.11/site-packages/nest_asyncio.py:115\u001B[39m, in \u001B[36m_patch_loop.<locals>._run_once\u001B[39m\u001B[34m(self)\u001B[39m\n\u001B[32m    108\u001B[39m     heappop(scheduled)\n\u001B[32m    110\u001B[39m timeout = (\n\u001B[32m    111\u001B[39m     \u001B[32m0\u001B[39m \u001B[38;5;28;01mif\u001B[39;00m ready \u001B[38;5;129;01mor\u001B[39;00m \u001B[38;5;28mself\u001B[39m._stopping\n\u001B[32m    112\u001B[39m     \u001B[38;5;28;01melse\u001B[39;00m \u001B[38;5;28mmin\u001B[39m(\u001B[38;5;28mmax\u001B[39m(\n\u001B[32m    113\u001B[39m         scheduled[\u001B[32m0\u001B[39m]._when - \u001B[38;5;28mself\u001B[39m.time(), \u001B[32m0\u001B[39m), \u001B[32m86400\u001B[39m) \u001B[38;5;28;01mif\u001B[39;00m scheduled\n\u001B[32m    114\u001B[39m     \u001B[38;5;28;01melse\u001B[39;00m \u001B[38;5;28;01mNone\u001B[39;00m)\n\u001B[32m--> \u001B[39m\u001B[32m115\u001B[39m event_list = \u001B[38;5;28;43mself\u001B[39;49m\u001B[43m.\u001B[49m\u001B[43m_selector\u001B[49m\u001B[43m.\u001B[49m\u001B[43mselect\u001B[49m\u001B[43m(\u001B[49m\u001B[43mtimeout\u001B[49m\u001B[43m)\u001B[49m\n\u001B[32m    116\u001B[39m \u001B[38;5;28mself\u001B[39m._process_events(event_list)\n\u001B[32m    118\u001B[39m end_time = \u001B[38;5;28mself\u001B[39m.time() + \u001B[38;5;28mself\u001B[39m._clock_resolution\n",
      "\u001B[36mFile \u001B[39m\u001B[32m/opt/homebrew/Cellar/python@3.11/3.11.9/Frameworks/Python.framework/Versions/3.11/lib/python3.11/selectors.py:566\u001B[39m, in \u001B[36mKqueueSelector.select\u001B[39m\u001B[34m(self, timeout)\u001B[39m\n\u001B[32m    564\u001B[39m ready = []\n\u001B[32m    565\u001B[39m \u001B[38;5;28;01mtry\u001B[39;00m:\n\u001B[32m--> \u001B[39m\u001B[32m566\u001B[39m     kev_list = \u001B[38;5;28mself\u001B[39m._selector.control(\u001B[38;5;28;01mNone\u001B[39;00m, max_ev, timeout)\n\u001B[32m    567\u001B[39m \u001B[38;5;28;01mexcept\u001B[39;00m \u001B[38;5;167;01mInterruptedError\u001B[39;00m:\n\u001B[32m    568\u001B[39m     \u001B[38;5;28;01mreturn\u001B[39;00m ready\n",
      "\u001B[31mKeyboardInterrupt\u001B[39m: "
     ]
    },
    {
     "name": "stdout",
     "output_type": "stream",
     "text": [
      "Judging drawing for: A pathway diagram illustrating the role of kctd10 in heart development, featuring protein interactions and gene regulation that occur in the zebrafish heart development process, particularly showing how kctd10 negatively regulates tbx5a which positively regulates has2 in atrioventricular canal development.\n",
      "Converting SVG to PNG\n",
      "Judging drawing for: An improved pathway diagram illustrating the role of kctd10 in zebrafish heart development, showing how kctd10 protein binding negatively regulates tbx5a transcription factor activity, which in turn positively regulates has2 expression, all within the context of regionalization and atrioventricular canal development. The diagram includes a cellular context with a clearly marked nucleus where kctd10 and tbx5a function, and includes an improved layout that minimizes crossing arrows.\n",
      "Converting SVG to PNG\n"
     ]
    }
   ],
   "source": [
    "import os\n",
    "import asyncio\n",
    "\n",
    "PROMPT = \"\"\"\n",
    "Draw the following GO-CAM as a pathway diagram. Draw this in the style of a figure\n",
    "for inclusion in a journal like Cell or Nature. Be faithful to the content, but\n",
    "use artistic license when drawing things such as cell components, tissue compartments,\n",
    "molecular tagging, subcellular transport, etc. While you should generally not include gene\n",
    "products not in the GO-CAM, fill in implicit details where completely necessary, but\n",
    "mark them as not being in the source.\n",
    "\"\"\"\n",
    "\n",
    "for m in models:\n",
    "    model = Model(**m)\n",
    "    title = model.title\n",
    "    print(f\"## {model.id} {model.title}\")\n",
    "    # make safe for file name; replace ALL non-alphanumeric characters with \"_\"\n",
    "    title = \"\".join(c if c.isalnum() else \"_\" for c in title)\n",
    "    model_num = model.id.split(\":\")[-1]\n",
    "    fn = f\"go-cam-figures/FIG-{model_num}-{title}.svg\"\n",
    "    fn_json = f\"{fn}.json\"\n",
    "    # if file exists, skip\n",
    "    if os.path.exists(fn_json):\n",
    "        print(f\"File {fn_json} already exists, skipping.\")\n",
    "        with open(fn_json) as f:\n",
    "            data = DrawingFeedback(**json.load(f))\n",
    "    else:\n",
    "        \n",
    "        gocam_json = model.model_dump_json(exclude_unset=True)\n",
    "        command = f\"{PROMPT}: {gocam_json}\"\n",
    "        #print(f\"COMMAND: {command}\")\n",
    "    \n",
    "        try:\n",
    "            result = draw_agent.run_sync(command, deps=deps, model=ai_model, model_settings=settings)\n",
    "        except Exception as e:\n",
    "            print(f\"Error: {e}\")\n",
    "            continue\n",
    "        print(result.data)\n",
    "        \n",
    "        with open(fn, \"w\") as f:\n",
    "            f.write(result.data.svg_content)\n",
    "        with open(fn_json, \"w\") as f:\n",
    "            f.write(result.data.model_dump_json())\n",
    "    with open(f\"{fn}.md\", \"w\") as f:\n",
    "        f.write(f\"# Figure: {model.title}\\n\\n\")\n",
    "        f.write(f\"id: [{model.id}](https://bioregistry.io/{model.id})\\n\\n\")\n",
    "        f.write(f\"![img](FIG-{model_num}-{title}.svg)\\n\\n\")\n",
    "        f.write(result.data.legend)\n",
    "        f.write(\"\\n\\n\")\n",
    "        f.write(f\"Feedback from AI on figure:\\n\\n```json\\n{result.data.feedback.model_dump_json()}\\n```\\n\")\n",
    "    "
   ]
  },
  {
   "cell_type": "code",
   "execution_count": 16,
   "id": "896a868cd05b0439",
   "metadata": {
    "ExecuteTime": {
     "end_time": "2025-03-21T14:20:51.553951Z",
     "start_time": "2025-03-21T14:20:51.551650Z"
    }
   },
   "outputs": [
    {
     "name": "stdout",
     "output_type": "stream",
     "text": [
      "done\n"
     ]
    }
   ],
   "source": [
    "print(\"done\")"
   ]
  },
  {
   "cell_type": "code",
   "execution_count": null,
   "id": "62f1a0820ca40bdd",
   "metadata": {
    "ExecuteTime": {
     "end_time": "2025-03-21T14:20:51.635261Z",
     "start_time": "2025-03-21T14:20:51.631504Z"
    }
   },
   "outputs": [],
   "source": [
    "# find all reviews in go-cam-reviews/ by glob searching *md\n",
    "import glob\n",
    "files = glob.glob(\"go-cam-reviews/*.md\")"
   ]
  },
  {
   "cell_type": "code",
   "execution_count": null,
   "id": "769f71c072dc0f95",
   "metadata": {
    "ExecuteTime": {
     "end_time": "2025-03-21T14:45:27.007605Z",
     "start_time": "2025-03-21T14:45:27.005979Z"
    }
   },
   "outputs": [],
   "source": [
    "#cborg_api_key"
   ]
  },
  {
   "cell_type": "code",
   "execution_count": null,
   "id": "38e2b210c70329f3",
   "metadata": {
    "ExecuteTime": {
     "end_time": "2025-03-21T14:43:24.587926Z",
     "start_time": "2025-03-21T14:43:24.585923Z"
    }
   },
   "outputs": [],
   "source": [
    "summarization_model = OpenAIModel(\n",
    "    \"anthropic/claude-sonnet\",\n",
    "    provider=OpenAIProvider(\n",
    "        base_url=\"https://api.cborg.lbl.gov\",\n",
    "        api_key=cborg_api_key),\n",
    ")"
   ]
  },
  {
   "cell_type": "code",
   "execution_count": null,
   "id": "fd98bdbaed1bf08e",
   "metadata": {
    "ExecuteTime": {
     "end_time": "2025-03-21T16:45:38.819033Z",
     "start_time": "2025-03-21T14:45:56.425836Z"
    }
   },
   "outputs": [],
   "source": [
    "for fn in files:\n",
    "    print(fn)\n",
    "    content = open(fn).read()\n",
    "    #print(len(content))\n",
    "    # content = content[:200]\n",
    "    command = f\"Summarize this review: {content}\"\n",
    "    #result = gocam_reviewer_agent.run_sync(command, deps=deps, model=ai_model, model_settings=settings)\n",
    "    result = gocam_review_summarizer_agent.run_sync(command, deps=deps, model=summarization_model)\n",
    "    #print(result.data)\n",
    "    # save the json in the same dir\n",
    "    with open(fn + \".json\", \"w\") as f:\n",
    "        f.write(result.data.model_dump_json(indent=2))\n",
    "    #break\n"
   ]
  },
  {
   "cell_type": "code",
   "execution_count": null,
   "id": "6ef2c629e7fcb69b",
   "metadata": {
    "ExecuteTime": {
     "end_time": "2025-03-21T16:45:38.826096Z",
     "start_time": "2025-03-21T16:45:38.823355Z"
    }
   },
   "outputs": [],
   "source": [
    "print(\"Done\")"
   ]
  },
  {
   "cell_type": "code",
   "execution_count": null,
   "id": "c8b4bea140054ab",
   "metadata": {},
   "outputs": [],
   "source": []
  }
 ],
 "metadata": {
  "kernelspec": {
   "display_name": "Python 3 (ipykernel)",
   "language": "python",
   "name": "python3"
  },
  "language_info": {
   "codemirror_mode": {
    "name": "ipython",
    "version": 3
   },
   "file_extension": ".py",
   "mimetype": "text/x-python",
   "name": "python",
   "nbconvert_exporter": "python",
   "pygments_lexer": "ipython3",
   "version": "3.11.9"
  }
 },
 "nbformat": 4,
 "nbformat_minor": 5
}
